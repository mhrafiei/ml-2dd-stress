{
  "nbformat": 4,
  "nbformat_minor": 0,
  "metadata": {
    "colab": {
      "name": "ml-2dd-stress.ipynb",
      "provenance": [],
      "collapsed_sections": []
    },
    "kernelspec": {
      "name": "python3",
      "display_name": "Python 3"
    },
    "accelerator": "GPU"
  },
  "cells": [
    {
      "cell_type": "markdown",
      "metadata": {
        "id": "71wN8Y9q1WaP",
        "colab_type": "text"
      },
      "source": [
        "# **1. Clone the repository**\n",
        "\n",
        "\n",
        "---\n",
        "\n"
      ]
    },
    {
      "cell_type": "code",
      "metadata": {
        "id": "U6zFb3ihxIDJ",
        "colab_type": "code",
        "colab": {}
      },
      "source": [
        "!git config --global --unset http.proxy\n",
        "!git config --global --unset https.proxy\n",
        "!git config --global user.email \"mrafiei1@jhu.edu\"\n",
        "!git config --global user.name \"mrafiei1\"\n",
        "!git clone https://github.com/mhrafiei/ml-2dd-peach-koehler.git"
      ],
      "execution_count": null,
      "outputs": []
    },
    {
      "cell_type": "markdown",
      "metadata": {
        "id": "eW4pzSk32eWI",
        "colab_type": "text"
      },
      "source": [
        "# **2. Cat /content/ml-2dd-peach-koehler/data-matlab/data_part_* to /content/ml-2dd-peach-koehler/data-python/data.zip and unzip it**\n",
        "\n",
        "\n",
        "---\n",
        "\n"
      ]
    },
    {
      "cell_type": "code",
      "metadata": {
        "id": "W-J0pBdneF9f",
        "colab_type": "code",
        "colab": {}
      },
      "source": [
        "cd /content/ml-2dd-peach-koehler/data-matlab/"
      ],
      "execution_count": null,
      "outputs": []
    },
    {
      "cell_type": "code",
      "metadata": {
        "id": "A2bgqwdAxOt7",
        "colab_type": "code",
        "colab": {}
      },
      "source": [
        "!cat data_part_a* > data.zip\n",
        "!unzip data.zip"
      ],
      "execution_count": null,
      "outputs": []
    },
    {
      "cell_type": "markdown",
      "metadata": {
        "id": "Jpkv1zHWAKcX",
        "colab_type": "text"
      },
      "source": [
        "# **3. Run /content/ml-2dd-peach-koehler/code-keras/code_data.py for data processing and five RTTs and five RRSs**"
      ]
    },
    {
      "cell_type": "code",
      "metadata": {
        "id": "0UgaytswAK5h",
        "colab_type": "code",
        "colab": {}
      },
      "source": [
        "cd /content/ml-2dd-peach-koehler/code-keras/"
      ],
      "execution_count": null,
      "outputs": []
    },
    {
      "cell_type": "code",
      "metadata": {
        "id": "rR0SYXPcASuq",
        "colab_type": "code",
        "colab": {}
      },
      "source": [
        "!python3.6 code_data.py"
      ],
      "execution_count": null,
      "outputs": []
    },
    {
      "cell_type": "markdown",
      "metadata": {
        "id": "k1kf1C7I1nZ3",
        "colab_type": "text"
      },
      "source": [
        "# **4. Edit neuron architectures to be investigated in /content/ml-2dd-peach-koehler/code-keras/code_creator_keras.py and run it**\n",
        "\n",
        "\n",
        "---\n",
        "\n"
      ]
    },
    {
      "cell_type": "code",
      "metadata": {
        "id": "Hg5iP9vt3lJ1",
        "colab_type": "code",
        "colab": {}
      },
      "source": [
        "cd /content/ml-2dd-peach-koehler/code-keras/"
      ],
      "execution_count": null,
      "outputs": []
    },
    {
      "cell_type": "code",
      "metadata": {
        "id": "gIWvkJiS2Qxh",
        "colab_type": "code",
        "colab": {}
      },
      "source": [
        "!python3.6 code_creator_keras.py"
      ],
      "execution_count": null,
      "outputs": []
    },
    {
      "cell_type": "markdown",
      "metadata": {
        "id": "WOqS9T7Y3z6y",
        "colab_type": "text"
      },
      "source": [
        "#**5. Edit ML input parameters in /content/ml-2dd-peach-koehler/code-keras/cls_keras.py and run any prefered /content/ml-2dd-peach-koehler/code-keras/master_keras_* file**\n",
        "\n",
        "\n",
        "---\n",
        "\n"
      ]
    },
    {
      "cell_type": "code",
      "metadata": {
        "id": "NCTn31GS1Mlt",
        "colab_type": "code",
        "colab": {}
      },
      "source": [
        "#Example for RTT of 3 and RRS of 2\n",
        "!python3.6 master_keras_3_2_100_75_50_25_12.py"
      ],
      "execution_count": null,
      "outputs": []
    },
    {
      "cell_type": "markdown",
      "metadata": {
        "id": "4uQfCJTz8Aec",
        "colab_type": "text"
      },
      "source": [
        "# **6. Results including the models and figures are availble at /content/ml-2dd-peach-koehler/data-python/**"
      ]
    },
    {
      "cell_type": "code",
      "metadata": {
        "id": "ofl0R7kh8Osg",
        "colab_type": "code",
        "colab": {}
      },
      "source": [
        "cd /content/ml-2dd-peach-koehler/data-python/"
      ],
      "execution_count": null,
      "outputs": []
    }
  ]
}